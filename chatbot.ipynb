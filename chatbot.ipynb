{
 "cells": [
  {
   "cell_type": "code",
   "execution_count": 98,
   "metadata": {},
   "outputs": [],
   "source": [
    "import nltk\n",
    "from nltk.stem.lancaster import LancasterStemmer\n",
    "stemmer = LancasterStemmer()"
   ]
  },
  {
   "cell_type": "code",
   "execution_count": 99,
   "metadata": {},
   "outputs": [],
   "source": [
    "import numpy as np\n",
    "import tflearn\n",
    "import tensorflow as tsflw\n",
    "import random as rd\n",
    "import json"
   ]
  },
  {
   "cell_type": "code",
   "execution_count": 100,
   "metadata": {},
   "outputs": [
    {
     "data": {
      "text/plain": [
       "[{'tag': 'greeting',\n",
       "  'patterns': ['Hi',\n",
       "   'How are you',\n",
       "   'Is anyone there?',\n",
       "   'Hello',\n",
       "   'Good day',\n",
       "   'Whats up'],\n",
       "  'responses': ['Hello!',\n",
       "   'Good to see you again!',\n",
       "   'Hi there, how can I help?'],\n",
       "  'context_set': ''},\n",
       " {'tag': 'goodbye',\n",
       "  'patterns': ['cya',\n",
       "   'See you later',\n",
       "   'Goodbye',\n",
       "   'I am Leaving',\n",
       "   'Have a Good day'],\n",
       "  'responses': ['Sad to see you go :(', 'Talk to you later', 'Goodbye!'],\n",
       "  'context_set': ''},\n",
       " {'tag': 'age',\n",
       "  'patterns': ['how old',\n",
       "   'how old is tim',\n",
       "   'what is your age',\n",
       "   'how old are you',\n",
       "   'age?'],\n",
       "  'responses': ['I am 18 years old!', '18 years young!'],\n",
       "  'context_set': ''},\n",
       " {'tag': 'name',\n",
       "  'patterns': ['what is your name',\n",
       "   'what should I call you',\n",
       "   'whats your name?'],\n",
       "  'responses': ['You can call me Tim.',\n",
       "   \"I'm Tim!\",\n",
       "   \"I'm Tim aka Tech With Tim.\"],\n",
       "  'context_set': ''},\n",
       " {'tag': 'shop',\n",
       "  'patterns': ['Id like to buy something',\n",
       "   'whats on the menu',\n",
       "   'what do you reccommend?',\n",
       "   'could i get something to eat'],\n",
       "  'responses': ['We sell chocolate chip cookies for $2!',\n",
       "   'Cookies are on the menu!'],\n",
       "  'context_set': ''},\n",
       " {'tag': 'hours',\n",
       "  'patterns': ['when are you guys open',\n",
       "   'what are your hours',\n",
       "   'hours of operation'],\n",
       "  'responses': ['We are open 7am-4pm Monday-Friday!'],\n",
       "  'context_set': ''}]"
      ]
     },
     "execution_count": 100,
     "metadata": {},
     "output_type": "execute_result"
    }
   ],
   "source": [
    "with open(\"intents bot1.json\") as f:\n",
    "\tdat = json.load(f)\n",
    "\tintents = dat['intents']\n",
    "intents"
   ]
  },
  {
   "cell_type": "code",
   "execution_count": 101,
   "metadata": {},
   "outputs": [],
   "source": [
    "words = []\n",
    "labels = []\n",
    "docs_x = []\n",
    "docs_y = []\n",
    "for intent in intents:\n",
    "\tfor pattern in intent['patterns']:\n",
    "\t\twrds = nltk.word_tokenize(pattern)\n",
    "\t\twords.extend(wrds)\n",
    "\t\tdocs_x.append(wrds)\n",
    "\t\tdocs_y.append(intent[\"tag\"])\n",
    "\t\n",
    "\tif intent[\"tag\"] not in labels:\n",
    "\t\tlabels.append(intent['tag'])\n",
    "\t\t"
   ]
  },
  {
   "cell_type": "code",
   "execution_count": 102,
   "metadata": {},
   "outputs": [],
   "source": [
    "words = [stemmer.stem(w.lower()) for w in words if w != \"?\"] # stemmer: extract root word \n",
    "words = sorted(list(set(words))) # remove duplicates\n",
    "labels = sorted(labels)"
   ]
  },
  {
   "cell_type": "code",
   "execution_count": 103,
   "metadata": {},
   "outputs": [],
   "source": [
    "'''\n",
    "freqeuncy representation\n",
    "[1,0,3] - freq\n",
    "['a','','hi'] - corresponding word contained in the sent\n",
    "'''\n",
    "training = []\n",
    "output = []\n",
    "out_empty = [0 for _ in range(len(labels))]\n",
    "\n",
    "for x, doc in enumerate(docs_x):\n",
    "\tbag = []\n",
    "\twrds = [stemmer.stem(w) for w in doc]\n",
    "\tfor w in words:\n",
    "\t\tif w in wrds:\n",
    "\t\t\tbag.append(1)\n",
    "\t\telse:\n",
    "\t\t\tbag.append(0)\n",
    "\toutput_row = out_empty[:]\n",
    "\toutput_row[labels.index(docs_y[x])] = 1\n",
    "\n",
    "\ttraining.append(bag)\n",
    "\toutput.append(output_row)"
   ]
  },
  {
   "cell_type": "code",
   "execution_count": 104,
   "metadata": {},
   "outputs": [],
   "source": [
    "training = np.array(training)\n",
    "output = np.array(output)"
   ]
  },
  {
   "cell_type": "code",
   "execution_count": 105,
   "metadata": {},
   "outputs": [],
   "source": [
    "# Buidling AI\n",
    "tsflw.compat.v1.reset_default_graph() # this is required to run afterwards\n",
    "net = tflearn.input_data(shape=[None, len(training[0])])\n",
    "\n",
    "net = tflearn.fully_connected(net, 8) # 8 neurons\n",
    "net = tflearn.fully_connected(net, 8) # 8 neurons\n",
    "net = tflearn.fully_connected(net, len(output[0]), activation=\"softmax\") # output layers\n",
    "net = tflearn.regression(net)\n",
    "\n",
    "model = tflearn.DNN(net)"
   ]
  },
  {
   "cell_type": "code",
   "execution_count": 106,
   "metadata": {},
   "outputs": [
    {
     "data": {
      "text/plain": [
       "(26, 46)"
      ]
     },
     "execution_count": 106,
     "metadata": {},
     "output_type": "execute_result"
    }
   ],
   "source": [
    "training.shape"
   ]
  },
  {
   "cell_type": "code",
   "execution_count": 107,
   "metadata": {},
   "outputs": [
    {
     "data": {
      "text/plain": [
       "(26, 6)"
      ]
     },
     "execution_count": 107,
     "metadata": {},
     "output_type": "execute_result"
    }
   ],
   "source": [
    "output.shape"
   ]
  },
  {
   "cell_type": "code",
   "execution_count": 108,
   "metadata": {},
   "outputs": [
    {
     "name": "stdout",
     "output_type": "stream",
     "text": [
      "Training Step: 3999  | total loss: \u001b[1m\u001b[32m0.21352\u001b[0m\u001b[0m | time: 0.011s\n",
      "| Adam | epoch: 1000 | loss: 0.21352 - acc: 0.9817 -- iter: 24/26\n",
      "Training Step: 4000  | total loss: \u001b[1m\u001b[32m0.20115\u001b[0m\u001b[0m | time: 0.014s\n",
      "| Adam | epoch: 1000 | loss: 0.20115 - acc: 0.9836 -- iter: 26/26\n",
      "--\n",
      "INFO:tensorflow:c:\\Users\\Leong Teng Man\\Documents\\GitHub\\AI-School-Project\\model.tflearn is not in all_model_checkpoint_paths. Manually adding it.\n",
      "INFO:tensorflow:c:\\Users\\Leong Teng Man\\Documents\\GitHub\\AI-School-Project\\model.tflearn.data-00000-of-00001\n",
      "INFO:tensorflow:0\n",
      "INFO:tensorflow:c:\\Users\\Leong Teng Man\\Documents\\GitHub\\AI-School-Project\\model.tflearn.index\n",
      "INFO:tensorflow:0\n",
      "INFO:tensorflow:c:\\Users\\Leong Teng Man\\Documents\\GitHub\\AI-School-Project\\model.tflearn.meta\n",
      "INFO:tensorflow:100\n"
     ]
    }
   ],
   "source": [
    "model.fit(training, output, n_epoch=1000, batch_size = 8, show_metric = True)\n",
    "model.save(\"model.tflearn\")"
   ]
  },
  {
   "cell_type": "code",
   "execution_count": 113,
   "metadata": {},
   "outputs": [],
   "source": [
    "def bag_of_words(sent, words):\n",
    "\tbag = [0 for _ in range(len(words))]\n",
    "\tsent_wrds = nltk.word_tokenize(sent)\n",
    "\tsent_wrds = [stemmer.stem(w.lower()) for w in sent_wrds]\n",
    "\n",
    "\t# counting freq for each word\n",
    "\tfor word in sent_wrds:\n",
    "\t\tfor i, w in enumerate(words):\n",
    "\t\t\tif w == word:\n",
    "\t\t\t\tbag[i] = 1\n",
    "\treturn np.array(bag)\n"
   ]
  },
  {
   "cell_type": "code",
   "execution_count": 122,
   "metadata": {},
   "outputs": [
    {
     "name": "stdout",
     "output_type": "stream",
     "text": [
      "You're talking with the bot (type bye to quit)!\n",
      "[2.8298786e-03 2.5551571e-02 9.0004575e-01 7.0179611e-02 3.5150442e-04\n",
      " 1.0417529e-03]\n",
      "2\n",
      "Hello!\n",
      "[0.20513606 0.17796925 0.54831314 0.03820605 0.02473528 0.00564025]\n",
      "2\n",
      "I didn't get that, try again\n",
      "[0.20513606 0.17796925 0.54831314 0.03820605 0.02473528 0.00564025]\n",
      "2\n",
      "I didn't get that, try again\n",
      "[0.20513606 0.17796925 0.54831314 0.03820605 0.02473528 0.00564025]\n",
      "2\n",
      "I didn't get that, try again\n",
      "[0.20513606 0.17796925 0.54831314 0.03820605 0.02473528 0.00564025]\n",
      "2\n",
      "I didn't get that, try again\n",
      "[0.20513606 0.17796925 0.54831314 0.03820605 0.02473528 0.00564025]\n",
      "2\n",
      "I didn't get that, try again\n",
      "[0.20513606 0.17796925 0.54831314 0.03820605 0.02473528 0.00564025]\n",
      "2\n",
      "I didn't get that, try again\n",
      "[0.20513606 0.17796925 0.54831314 0.03820605 0.02473528 0.00564025]\n",
      "2\n",
      "I didn't get that, try again\n",
      "[0.20513606 0.17796925 0.54831314 0.03820605 0.02473528 0.00564025]\n",
      "2\n",
      "I didn't get that, try again\n",
      "[0.20513606 0.17796925 0.54831314 0.03820605 0.02473528 0.00564025]\n",
      "2\n",
      "I didn't get that, try again\n",
      "[0.20513606 0.17796925 0.54831314 0.03820605 0.02473528 0.00564025]\n",
      "2\n",
      "I didn't get that, try again\n",
      "[0.20513606 0.17796925 0.54831314 0.03820605 0.02473528 0.00564025]\n",
      "2\n",
      "I didn't get that, try again\n",
      "[0.20513606 0.17796925 0.54831314 0.03820605 0.02473528 0.00564025]\n",
      "2\n",
      "I didn't get that, try again\n",
      "[0.20513606 0.17796925 0.54831314 0.03820605 0.02473528 0.00564025]\n",
      "2\n",
      "I didn't get that, try again\n",
      "[0.20513606 0.17796925 0.54831314 0.03820605 0.02473528 0.00564025]\n",
      "2\n",
      "I didn't get that, try again\n",
      "[0.20513606 0.17796925 0.54831314 0.03820605 0.02473528 0.00564025]\n",
      "2\n",
      "I didn't get that, try again\n",
      "[0.20513606 0.17796925 0.54831314 0.03820605 0.02473528 0.00564025]\n",
      "2\n",
      "I didn't get that, try again\n",
      "[0.20513606 0.17796925 0.54831314 0.03820605 0.02473528 0.00564025]\n",
      "2\n",
      "I didn't get that, try again\n",
      "[0.20513606 0.17796925 0.54831314 0.03820605 0.02473528 0.00564025]\n",
      "2\n",
      "I didn't get that, try again\n",
      "[0.20513606 0.17796925 0.54831314 0.03820605 0.02473528 0.00564025]\n",
      "2\n",
      "I didn't get that, try again\n",
      "[0.20513606 0.17796925 0.54831314 0.03820605 0.02473528 0.00564025]\n",
      "2\n",
      "I didn't get that, try again\n",
      "[0.20513606 0.17796925 0.54831314 0.03820605 0.02473528 0.00564025]\n",
      "2\n",
      "I didn't get that, try again\n",
      "[0.20513606 0.17796925 0.54831314 0.03820605 0.02473528 0.00564025]\n",
      "2\n",
      "I didn't get that, try again\n",
      "[0.20513606 0.17796925 0.54831314 0.03820605 0.02473528 0.00564025]\n",
      "2\n",
      "I didn't get that, try again\n",
      "[0.20513606 0.17796925 0.54831314 0.03820605 0.02473528 0.00564025]\n",
      "2\n",
      "I didn't get that, try again\n",
      "[0.20513606 0.17796925 0.54831314 0.03820605 0.02473528 0.00564025]\n",
      "2\n",
      "I didn't get that, try again\n",
      "[0.20513606 0.17796925 0.54831314 0.03820605 0.02473528 0.00564025]\n",
      "2\n",
      "I didn't get that, try again\n",
      "[0.20513606 0.17796925 0.54831314 0.03820605 0.02473528 0.00564025]\n",
      "2\n",
      "I didn't get that, try again\n",
      "[0.20513606 0.17796925 0.54831314 0.03820605 0.02473528 0.00564025]\n",
      "2\n",
      "I didn't get that, try again\n"
     ]
    }
   ],
   "source": [
    "def chat():\n",
    "\tprint(\"You're talking with the bot (type quit to quit)!\")\n",
    "\n",
    "\twhile True:\n",
    "\t\tuser_inp = input(\"You: \")\n",
    "\t\tif user_inp.lower() == \"quit\":\n",
    "\t\t\tbreak\n",
    "\n",
    "\t\tresults = model.predict([bag_of_words(user_inp, words)])[0]\n",
    "\t\tresults_idx = np.argmax(results)\n",
    "\t\ttag = labels[results_idx]\n",
    "\t\tif results[results_idx] > 0.7:\n",
    "\n",
    "\t\t\tfor corspd in dat['intents']:\n",
    "\t\t\t\tif corspd['tag'] == tag:\n",
    "\t\t\t\t\tresponses = corspd['responses']\n",
    "\t\t\t\n",
    "\t\t\tprint(rd.choice(responses))\n",
    "\t\telse:\n",
    "\t\t\tprint(\"I didn't get that, try again\")\n",
    "chat()"
   ]
  }
 ],
 "metadata": {
  "interpreter": {
   "hash": "2324a66782fee6ab9f0bdb3c9e79ee636ed86487484f245c4444858429ce7730"
  },
  "kernelspec": {
   "display_name": "Python 3.10.2 64-bit",
   "language": "python",
   "name": "python3"
  },
  "language_info": {
   "codemirror_mode": {
    "name": "ipython",
    "version": 3
   },
   "file_extension": ".py",
   "mimetype": "text/x-python",
   "name": "python",
   "nbconvert_exporter": "python",
   "pygments_lexer": "ipython3",
   "version": "3.10.2"
  },
  "orig_nbformat": 4
 },
 "nbformat": 4,
 "nbformat_minor": 2
}
