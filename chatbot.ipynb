{
 "cells": [
  {
   "cell_type": "code",
   "execution_count": 2,
   "metadata": {},
   "outputs": [],
   "source": [
    "import nltk\n",
    "from nltk.stem.lancaster import LancasterStemmer\n",
    "stemmer = LancasterStemmer()"
   ]
  },
  {
   "cell_type": "code",
   "execution_count": 3,
   "metadata": {},
   "outputs": [
    {
     "name": "stdout",
     "output_type": "stream",
     "text": [
      "WARNING:tensorflow:From c:\\Users\\Leong Teng Man\\AppData\\Local\\Programs\\Python\\Python310\\lib\\site-packages\\tensorflow\\python\\compat\\v2_compat.py:107: disable_resource_variables (from tensorflow.python.ops.variable_scope) is deprecated and will be removed in a future version.\n",
      "Instructions for updating:\n",
      "non-resource variables are not supported in the long term\n",
      "curses is not supported on this machine (please install/reinstall curses for an optimal experience)\n"
     ]
    }
   ],
   "source": [
    "import numpy as np\n",
    "import tflearn\n",
    "import tensorflow\n",
    "import random as rd\n",
    "import json"
   ]
  },
  {
   "cell_type": "code",
   "execution_count": 4,
   "metadata": {},
   "outputs": [
    {
     "data": {
      "text/plain": [
       "[{'tag': 'greeting',\n",
       "  'patterns': ['Hi',\n",
       "   'How are you',\n",
       "   'Is anyone there?',\n",
       "   'Hello',\n",
       "   'Good day',\n",
       "   'Whats up'],\n",
       "  'responses': ['Hello!',\n",
       "   'Good to see you again!',\n",
       "   'Hi there, how can I help?'],\n",
       "  'context_set': ''},\n",
       " {'tag': 'goodbye',\n",
       "  'patterns': ['cya',\n",
       "   'See you later',\n",
       "   'Goodbye',\n",
       "   'I am Leaving',\n",
       "   'Have a Good day'],\n",
       "  'responses': ['Sad to see you go :(', 'Talk to you later', 'Goodbye!'],\n",
       "  'context_set': ''},\n",
       " {'tag': 'age',\n",
       "  'patterns': ['how old',\n",
       "   'how old is tim',\n",
       "   'what is your age',\n",
       "   'how old are you',\n",
       "   'age?'],\n",
       "  'responses': ['I am 18 years old!', '18 years young!'],\n",
       "  'context_set': ''},\n",
       " {'tag': 'name',\n",
       "  'patterns': ['what is your name',\n",
       "   'what should I call you',\n",
       "   'whats your name?'],\n",
       "  'responses': ['You can call me Tim.',\n",
       "   \"I'm Tim!\",\n",
       "   \"I'm Tim aka Tech With Tim.\"],\n",
       "  'context_set': ''},\n",
       " {'tag': 'shop',\n",
       "  'patterns': ['Id like to buy something',\n",
       "   'whats on the menu',\n",
       "   'what do you reccommend?',\n",
       "   'could i get something to eat'],\n",
       "  'responses': ['We sell chocolate chip cookies for $2!',\n",
       "   'Cookies are on the menu!'],\n",
       "  'context_set': ''},\n",
       " {'tag': 'hours',\n",
       "  'patterns': ['when are you guys open',\n",
       "   'what are your hours',\n",
       "   'hours of operation'],\n",
       "  'responses': ['We are open 7am-4pm Monday-Friday!'],\n",
       "  'context_set': ''}]"
      ]
     },
     "execution_count": 4,
     "metadata": {},
     "output_type": "execute_result"
    }
   ],
   "source": [
    "with open(\"intents bot1.json\") as f:\n",
    "\tdat = json.load(f)\n",
    "\tintents = dat['intents']\n",
    "intents"
   ]
  },
  {
   "cell_type": "code",
   "execution_count": 5,
   "metadata": {},
   "outputs": [],
   "source": [
    "class doc_struct:\n",
    "\tdef __init__(self, tag, words):\n",
    "\t\tself.tag = tag\n",
    "\t\tself.words = words\n",
    "\n",
    "words = []\n",
    "labels = [intent[\"tag\"] for intent in intents]\n",
    "labels = list(set(labels))\n",
    "docs = []\n",
    "\n",
    "for intent in intents:\n",
    "\tfor pattern in intent['patterns']:\n",
    "\t\twrds = nltk.word_tokenize(pattern)\n",
    "\t\twords.extend(wrds) # concatenate 2 list\n",
    "\t\tdocs.append(doc_struct(intent[\"tag\"], wrds))\n",
    "\t\t"
   ]
  },
  {
   "cell_type": "code",
   "execution_count": 6,
   "metadata": {},
   "outputs": [],
   "source": [
    "words = [stemmer.stem(w.lower()) for w in words if w != \"?\"] # stemmer: extract root word \n",
    "words = sorted(list(set(words))) # remove duplicates\n",
    "labels = sorted(labels)"
   ]
  },
  {
   "cell_type": "code",
   "execution_count": 7,
   "metadata": {},
   "outputs": [],
   "source": [
    "'''\n",
    "Representation: bag of words\n",
    "for example, wrds= ['a', 'apple', 'eat', 'you', 'i']\n",
    "sent = ['a', 'apple', 'i']\n",
    "bag(sent, wrds) = [1, 1, 0, 0, 1]\n",
    "whose 1 denotes existence of corresponded word, 0 is not.\n",
    "'''\n",
    "training = []\n",
    "output = []\n",
    "out_empty = [0 for _ in range(len(labels))]\n",
    "\n",
    "for doc in docs:\n",
    "\tbag = []\n",
    "\twrds = [stemmer.stem(w) for w in doc.words]\n",
    "\tfor w in words:\n",
    "\t\tif w in wrds:\n",
    "\t\t\tbag.append(1)\n",
    "\t\telse:\n",
    "\t\t\tbag.append(0)\n",
    "\toutput_row = out_empty[:]\n",
    "\toutput_row[labels.index(doc.tag)] = 1\n",
    "\n",
    "\ttraining.append(bag)\n",
    "\toutput.append(output_row)"
   ]
  },
  {
   "cell_type": "code",
   "execution_count": 8,
   "metadata": {},
   "outputs": [],
   "source": [
    "training = np.array(training)\n",
    "output = np.array(output)"
   ]
  },
  {
   "cell_type": "code",
   "execution_count": 9,
   "metadata": {},
   "outputs": [
    {
     "name": "stdout",
     "output_type": "stream",
     "text": [
      "WARNING:tensorflow:From c:\\Users\\Leong Teng Man\\AppData\\Local\\Programs\\Python\\Python310\\lib\\site-packages\\tflearn\\initializations.py:164: calling TruncatedNormal.__init__ (from tensorflow.python.ops.init_ops) with dtype is deprecated and will be removed in a future version.\n",
      "Instructions for updating:\n",
      "Call initializer instance with the dtype argument instead of passing it to the constructor\n"
     ]
    }
   ],
   "source": [
    "# Buidling AI\n",
    "tensorflow.compat.v1.reset_default_graph() # this is required to run afterwards\n",
    "net = tflearn.input_data(shape=[None, len(training[0])])\n",
    "\n",
    "net = tflearn.fully_connected(net, 8) # 8 neurons\n",
    "net = tflearn.fully_connected(net, 8) # 8 neurons\n",
    "net = tflearn.fully_connected(net, len(output[0]), activation=\"softmax\") # output layers\n",
    "net = tflearn.regression(net)\n",
    "\n",
    "model = tflearn.DNN(net)"
   ]
  },
  {
   "cell_type": "code",
   "execution_count": 10,
   "metadata": {},
   "outputs": [],
   "source": [
    "# model.fit(training, output, n_epoch=1000, batch_size = 8, show_metric = True)\n",
    "# model.save(\"model.tflearn\")\n",
    "\n",
    "# model.load(\"model.tflearn\")"
   ]
  },
  {
   "cell_type": "code",
   "execution_count": 11,
   "metadata": {},
   "outputs": [],
   "source": [
    "def bag_of_words(sent, words):\n",
    "\tbag = [0 for _ in range(len(words))]\n",
    "\tsent_wrds = nltk.word_tokenize(sent)\n",
    "\tsent_wrds = [stemmer.stem(w.lower()) for w in sent_wrds]\n",
    "\n",
    "\t# counting freq for each word\n",
    "\tfor word in sent_wrds:\n",
    "\t\tfor i, w in enumerate(words):\n",
    "\t\t\tif w == word:\n",
    "\t\t\t\tbag[i] = 1\n",
    "\treturn np.array(bag)\n"
   ]
  },
  {
   "cell_type": "code",
   "execution_count": 12,
   "metadata": {},
   "outputs": [],
   "source": [
    "def chat():\n",
    "\tprint(\"You're talking with the bot (type quit to quit)!\")\n",
    "\n",
    "\twhile True:\n",
    "\t\tuser_inp = input(\"You: \")\n",
    "\t\tif user_inp.lower() == \"quit\":\n",
    "\t\t\tbreak\n",
    "\n",
    "\t\tresults = model.predict([bag_of_words(user_inp, words)])[0]\n",
    "\t\tresults_idx = np.argmax(results)\n",
    "\t\ttag = labels[results_idx]\n",
    "\t\tif results[results_idx] > 0.7:\n",
    "\n",
    "\t\t\tfor corspd in dat['intents']:\n",
    "\t\t\t\tif corspd['tag'] == tag:\n",
    "\t\t\t\t\tresponses = corspd['responses']\n",
    "\t\t\t\n",
    "\t\t\tprint(rd.choice(responses))\n",
    "\t\telse:\n",
    "\t\t\tprint(\"I didn't get that, try again\")\n",
    "chat()"
   ]
  }
 ],
 "metadata": {
  "interpreter": {
   "hash": "2324a66782fee6ab9f0bdb3c9e79ee636ed86487484f245c4444858429ce7730"
  },
  "kernelspec": {
   "display_name": "Python 3.10.2 64-bit",
   "language": "python",
   "name": "python3"
  },
  "language_info": {
   "codemirror_mode": {
    "name": "ipython",
    "version": 3
   },
   "file_extension": ".py",
   "mimetype": "text/x-python",
   "name": "python",
   "nbconvert_exporter": "python",
   "pygments_lexer": "ipython3",
   "version": "3.10.2"
  },
  "orig_nbformat": 4
 },
 "nbformat": 4,
 "nbformat_minor": 2
}
